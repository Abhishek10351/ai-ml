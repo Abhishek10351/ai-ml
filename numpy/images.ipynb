{
 "cells": [
  {
   "cell_type": "markdown",
   "metadata": {},
   "source": [
    "### Images in Numpy"
   ]
  },
  {
   "cell_type": "code",
   "execution_count": 1,
   "metadata": {},
   "outputs": [],
   "source": [
    "import numpy as np\n",
    "from matplotlib.image import imread"
   ]
  },
  {
   "cell_type": "code",
   "execution_count": 3,
   "metadata": {},
   "outputs": [
    {
     "data": {
      "text/plain": [
       "numpy.ndarray"
      ]
     },
     "execution_count": 3,
     "metadata": {},
     "output_type": "execute_result"
    }
   ],
   "source": [
    "pandas = imread(\"./numpy-images/panda.png\")\n",
    "type(pandas)"
   ]
  },
  {
   "cell_type": "code",
   "execution_count": 4,
   "metadata": {},
   "outputs": [
    {
     "data": {
      "text/plain": [
       "array([0.05490196, 0.10588235, 0.06666667], dtype=float32)"
      ]
     },
     "execution_count": 4,
     "metadata": {},
     "output_type": "execute_result"
    }
   ],
   "source": [
    "pandas[0, 0, :] "
   ]
  },
  {
   "cell_type": "code",
   "execution_count": 8,
   "metadata": {},
   "outputs": [
    {
     "data": {
      "text/plain": [
       "(array([[[0.5019608 , 0.50980395, 0.4862745 , 1.        ],\n",
       "         [0.3372549 , 0.34509805, 0.30588236, 1.        ],\n",
       "         [0.20392157, 0.21568628, 0.14901961, 1.        ],\n",
       "         ...,\n",
       "         [0.64705884, 0.7058824 , 0.54901963, 1.        ],\n",
       "         [0.59607846, 0.63529414, 0.45882353, 1.        ],\n",
       "         [0.44705883, 0.47058824, 0.3372549 , 1.        ]],\n",
       " \n",
       "        [[0.44313726, 0.43529412, 0.40392157, 1.        ],\n",
       "         [0.3137255 , 0.31764707, 0.27450982, 1.        ],\n",
       "         [0.2       , 0.21176471, 0.14117648, 1.        ],\n",
       "         ...,\n",
       "         [0.5058824 , 0.5372549 , 0.4117647 , 1.        ],\n",
       "         [0.49803922, 0.52156866, 0.39607844, 1.        ],\n",
       "         [0.4       , 0.42745098, 0.34117648, 1.        ]],\n",
       " \n",
       "        [[0.39607844, 0.38039216, 0.34117648, 1.        ],\n",
       "         [0.31764707, 0.3137255 , 0.27450982, 1.        ],\n",
       "         [0.28627452, 0.29411766, 0.24705882, 1.        ],\n",
       "         ...,\n",
       "         [0.44705883, 0.45882353, 0.32156864, 1.        ],\n",
       "         [0.45882353, 0.48235294, 0.3529412 , 1.        ],\n",
       "         [0.4509804 , 0.49019608, 0.38039216, 1.        ]],\n",
       " \n",
       "        ...,\n",
       " \n",
       "        [[0.4862745 , 0.5764706 , 0.6392157 , 1.        ],\n",
       "         [0.5254902 , 0.627451  , 0.6862745 , 1.        ],\n",
       "         [0.5568628 , 0.67058825, 0.7372549 , 1.        ],\n",
       "         ...,\n",
       "         [0.50980395, 0.62352943, 0.69411767, 1.        ],\n",
       "         [0.5764706 , 0.70980394, 0.78039217, 1.        ],\n",
       "         [0.6431373 , 0.8039216 , 0.8745098 , 1.        ]],\n",
       " \n",
       "        [[0.49411765, 0.5921569 , 0.654902  , 1.        ],\n",
       "         [0.56078434, 0.67058825, 0.74509805, 1.        ],\n",
       "         [0.6039216 , 0.72156864, 0.7921569 , 1.        ],\n",
       "         ...,\n",
       "         [0.627451  , 0.78039217, 0.84705883, 1.        ],\n",
       "         [0.6       , 0.7529412 , 0.81960785, 1.        ],\n",
       "         [0.6039216 , 0.7490196 , 0.8156863 , 1.        ]],\n",
       " \n",
       "        [[0.47058824, 0.57254905, 0.6313726 , 1.        ],\n",
       "         [0.4392157 , 0.53333336, 0.5882353 , 1.        ],\n",
       "         [0.48235294, 0.5803922 , 0.6392157 , 1.        ],\n",
       "         ...,\n",
       "         [0.6156863 , 0.7529412 , 0.827451  , 1.        ],\n",
       "         [0.61960787, 0.7607843 , 0.83137256, 1.        ],\n",
       "         [0.5921569 , 0.73333335, 0.7921569 , 1.        ]]], dtype=float32),\n",
       " (431, 575, 4),\n",
       " 3)"
      ]
     },
     "execution_count": 8,
     "metadata": {},
     "output_type": "execute_result"
    }
   ],
   "source": [
    "car = imread(\"./numpy-images/car-photo.png\")\n",
    "car[:-2], car.shape, car.ndim"
   ]
  },
  {
   "cell_type": "code",
   "execution_count": null,
   "metadata": {},
   "outputs": [],
   "source": []
  }
 ],
 "metadata": {
  "kernelspec": {
   "display_name": "Python 3",
   "language": "python",
   "name": "python3"
  },
  "language_info": {
   "codemirror_mode": {
    "name": "ipython",
    "version": 3
   },
   "file_extension": ".py",
   "mimetype": "text/x-python",
   "name": "python",
   "nbconvert_exporter": "python",
   "pygments_lexer": "ipython3",
   "version": "3.12.4"
  }
 },
 "nbformat": 4,
 "nbformat_minor": 2
}
