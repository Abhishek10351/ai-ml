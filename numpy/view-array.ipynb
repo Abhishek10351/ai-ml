{
 "cells": [
  {
   "cell_type": "code",
   "execution_count": 1,
   "metadata": {},
   "outputs": [],
   "source": [
    "import numpy as np"
   ]
  },
  {
   "cell_type": "code",
   "execution_count": 7,
   "metadata": {},
   "outputs": [
    {
     "data": {
      "text/plain": [
       "array([6, 7, 9, 8, 1, 7, 4, 6, 7, 9])"
      ]
     },
     "execution_count": 7,
     "metadata": {},
     "output_type": "execute_result"
    }
   ],
   "source": [
    "test_array = np.random.randint(0, 10, 10)\n",
    "test_array"
   ]
  },
  {
   "cell_type": "code",
   "execution_count": 8,
   "metadata": {},
   "outputs": [
    {
     "data": {
      "text/plain": [
       "array([1, 4, 6, 7, 8, 9])"
      ]
     },
     "execution_count": 8,
     "metadata": {},
     "output_type": "execute_result"
    }
   ],
   "source": [
    "np.unique(test_array)"
   ]
  },
  {
   "cell_type": "code",
   "execution_count": 9,
   "metadata": {},
   "outputs": [
    {
     "data": {
      "text/plain": [
       "array([[[[6, 1, 0, 8],\n",
       "         [3, 5, 3, 2]],\n",
       "\n",
       "        [[3, 9, 5, 7],\n",
       "         [9, 9, 7, 0]],\n",
       "\n",
       "        [[1, 0, 8, 9],\n",
       "         [3, 3, 6, 0]]],\n",
       "\n",
       "\n",
       "       [[[9, 4, 0, 6],\n",
       "         [9, 9, 9, 2]],\n",
       "\n",
       "        [[9, 9, 1, 8],\n",
       "         [3, 9, 1, 6]],\n",
       "\n",
       "        [[0, 2, 3, 2],\n",
       "         [3, 3, 9, 7]]]])"
      ]
     },
     "execution_count": 9,
     "metadata": {},
     "output_type": "execute_result"
    }
   ],
   "source": [
    "a4 = np.random.randint(0,10, size=(2,3,2,4))\n",
    "a4"
   ]
  },
  {
   "cell_type": "code",
   "execution_count": 12,
   "metadata": {},
   "outputs": [
    {
     "data": {
      "text/plain": [
       "array([[[[6],\n",
       "         [3]],\n",
       "\n",
       "        [[3],\n",
       "         [9]],\n",
       "\n",
       "        [[1],\n",
       "         [3]]],\n",
       "\n",
       "\n",
       "       [[[9],\n",
       "         [9]],\n",
       "\n",
       "        [[9],\n",
       "         [3]],\n",
       "\n",
       "        [[0],\n",
       "         [3]]]])"
      ]
     },
     "execution_count": 12,
     "metadata": {},
     "output_type": "execute_result"
    }
   ],
   "source": [
    "a4[:,:,:,:1]"
   ]
  },
  {
   "cell_type": "code",
   "execution_count": 13,
   "metadata": {},
   "outputs": [
    {
     "data": {
      "text/plain": [
       "array([[ 6, 15],\n",
       "       [18, 41]])"
      ]
     },
     "execution_count": 13,
     "metadata": {},
     "output_type": "execute_result"
    }
   ],
   "source": [
    "a1 = np.random.randint(0,10, size=(2,3))\n",
    "a2 = np.random.randint(0,10, size=(3,2))\n",
    "a1@a2"
   ]
  },
  {
   "cell_type": "code",
   "execution_count": 15,
   "metadata": {},
   "outputs": [
    {
     "data": {
      "text/plain": [
       "array([[27, 52, 21],\n",
       "       [ 6,  8,  6],\n",
       "       [12, 16, 12]])"
      ]
     },
     "execution_count": 15,
     "metadata": {},
     "output_type": "execute_result"
    }
   ],
   "source": [
    "a2@a1"
   ]
  },
  {
   "cell_type": "code",
   "execution_count": 22,
   "metadata": {},
   "outputs": [
    {
     "data": {
      "text/plain": [
       "(array([8, 3, 3]),\n",
       " array([[7, 1, 7],\n",
       "        [4, 4, 8]]),\n",
       " array([[56,  3, 21],\n",
       "        [32, 12, 24]]))"
      ]
     },
     "execution_count": 22,
     "metadata": {},
     "output_type": "execute_result"
    }
   ],
   "source": [
    "a3 = np.random.randint(0,10, size=(3))\n",
    "a5 = np.random.randint(0,10, size=(2,3))\n",
    "a3,a5,a3*a5\n"
   ]
  },
  {
   "cell_type": "code",
   "execution_count": 25,
   "metadata": {},
   "outputs": [
    {
     "data": {
      "text/plain": [
       "(array([64,  9,  9]),\n",
       " array([[71, 10, 16],\n",
       "        [68, 13, 17]]))"
      ]
     },
     "execution_count": 25,
     "metadata": {},
     "output_type": "execute_result"
    }
   ],
   "source": [
    "np.square(a3), np.add(a5, np.square(a3))"
   ]
  },
  {
   "cell_type": "code",
   "execution_count": null,
   "metadata": {},
   "outputs": [],
   "source": []
  }
 ],
 "metadata": {
  "kernelspec": {
   "display_name": "Python 3",
   "language": "python",
   "name": "python3"
  },
  "language_info": {
   "codemirror_mode": {
    "name": "ipython",
    "version": 3
   },
   "file_extension": ".py",
   "mimetype": "text/x-python",
   "name": "python",
   "nbconvert_exporter": "python",
   "pygments_lexer": "ipython3",
   "version": "3.12.4"
  }
 },
 "nbformat": 4,
 "nbformat_minor": 2
}
