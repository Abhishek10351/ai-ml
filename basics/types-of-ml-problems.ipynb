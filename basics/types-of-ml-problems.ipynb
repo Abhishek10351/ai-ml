{
 "cells": [
  {
   "cell_type": "markdown",
   "metadata": {},
   "source": [
    "# Different use cases and forms of ML models"
   ]
  },
  {
   "cell_type": "markdown",
   "metadata": {},
   "source": [
    "## Supervised Learning\n",
    "\n",
    "### Classification\n",
    "\n",
    "In this model , we have some predefined classes and we have to sort the new data into these classes. It can be binary or multi-class classification.\n",
    "- **Binary Classification**: The target variable has two possible outcomes.\n",
    "- **Multi-class Classification**: The target variable has more than two possible outcomes.\n",
    "- **Multi-label Classification**: The target variable has more than one label.\n",
    "\n",
    "### Regression\n",
    "\n",
    "In this model, we predict the continuous value of the target variable. It is used to predict the quantity of the target variable.\n",
    "\n",
    "\n",
    "\n"
   ]
  },
  {
   "cell_type": "markdown",
   "metadata": {},
   "source": [
    "## Unsupervised Learning\n",
    "\n",
    "This modelling technique is used when we have only input data and no corresponding output variables. The goal for this model is to model the underlying structure or distribution in the data in order to learn more about the data.\n",
    "\n",
    "### Clustering\n",
    "\n",
    "In this model, we group the data points that are similar to each other. It is used to find the inherent groupings in the data.\n"
   ]
  },
  {
   "cell_type": "markdown",
   "metadata": {},
   "source": [
    "## Transfer Learning\n",
    "\n",
    "In this model, we use the knowledge gained while solving one problem and apply it to a different but related problem. It is used when we have a small dataset and we want to use a pre-trained model to solve the problem.\n",
    "\n",
    "## Reinforcement Learning\n",
    "\n",
    "In this model, an agent learns to behave in an environment by performing actions and observing the rewards it gets from those actions. It is used when we have an interactive environment and the agent learns to achieve a goal by performing actions. **We use rewards and penalties to teach the agent.**"
   ]
  },
  {
   "cell_type": "markdown",
   "metadata": {},
   "source": []
  }
 ],
 "metadata": {
  "language_info": {
   "name": "python"
  }
 },
 "nbformat": 4,
 "nbformat_minor": 2
}
