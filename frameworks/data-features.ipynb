{
 "cells": [
  {
   "cell_type": "markdown",
   "metadata": {},
   "source": [
    "# Data features"
   ]
  },
  {
   "cell_type": "markdown",
   "metadata": {},
   "source": [
    "## Data features\n",
    "\n",
    "Data features are the characteristics of the data that we use to build our models. The features are the variables that we use to predict the target variable. The features can be of different types, such as numerical, categorical , or text.\n",
    "\n",
    "## Feature coverage\n",
    "\n",
    "The feature coverage is the percentage of the features that are present in the dataset. The feature coverage is important because it determines the quality of the data that we have. If the feature coverage is low, then the data is not representative of the population and the model will not be able to make accurate predictions."
   ]
  }
 ],
 "metadata": {
  "language_info": {
   "name": "python"
  }
 },
 "nbformat": 4,
 "nbformat_minor": 2
}
