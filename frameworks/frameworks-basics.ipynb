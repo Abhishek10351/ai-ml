{
 "cells": [
  {
   "cell_type": "markdown",
   "metadata": {},
   "source": [
    "# ML Frameworks\n",
    "\n",
    "## Introduction\n",
    "ML frameworks can have more than one meaning. here we are talking about the way we collect data and train models.\n",
    "\n",
    "## Data Collection\n",
    "\n",
    "We collect data from various sources in different forms. We then store it in a distinguished format. Sometimes for testing purposes, we need to generate synthetic data.\n",
    "\n"
   ]
  },
  {
   "cell_type": "markdown",
   "metadata": {},
   "source": [
    "## Data Modeling\n",
    "\n",
    "### Problem Definition\n",
    "We need to define the problem we are going to solve. We need to define the input and output of the model. We need to define the evaluation metric.\n",
    "\n",
    "### Data \n",
    "What kind of data we have? What is the size of the data? What is the distribution of the data? What is the quality of the data? What is the format of the data?\n",
    "\n",
    "### Evaluation\n",
    "How we are going to evaluate the model? What is the evaluation metric? What kind of outputs or results we are expecting?\n",
    "\n",
    "### Features\n",
    "\n",
    "What are the features we are going to use? What is the importance of the features? What is the correlation between the features?\n",
    "We can use features from data to train the model. We can also generate new features from the existing features.\n",
    "\n",
    "### Modelling\n",
    "\n",
    "We can use different models to solve the problem. We can use traditional machine learning models or deep learning models. We can use pre-trained models or we can train models from scratch.\n",
    "\n",
    "### Experimentation\n",
    "\n",
    "We test the steps as we go. We test the data, features, models, and evaluation metrics. We can use different models and different features to see which one is performing better. \n",
    "At last we use the most efficient model and features to train the model on the whole data."
   ]
  }
 ],
 "metadata": {
  "language_info": {
   "name": "python"
  }
 },
 "nbformat": 4,
 "nbformat_minor": 2
}
