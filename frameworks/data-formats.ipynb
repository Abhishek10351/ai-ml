{
 "cells": [
  {
   "cell_type": "markdown",
   "metadata": {},
   "source": [
    "# Types and formats of data"
   ]
  },
  {
   "cell_type": "markdown",
   "metadata": {},
   "source": [
    "## Types of data\n",
    "\n",
    "### Structured data\n",
    "\n",
    "Structured data is data that is organized in a specific format. It is data that is organized in a way that is easy to read and understand. Examples of structured data include: csv, json, xml, etc.\n",
    "\n",
    "### Unstructured data\n",
    "\n",
    "Unstructured data is data that is not organized in a specific format. It is data that is not organized in a way that is easy to read and understand. Examples of unstructured data include: text, images, videos, etc.\n",
    "\n",
    "\n",
    "### Static data\n",
    "\n",
    "Static data is data that does not change over time. It is data that is not updated or changed frequently. Examples of static data include: historical data, reference data, etc.\n",
    "\n",
    "### Streaming data\n",
    "\n",
    "Streaming data is data that is generated continuously over time. It is data that is updated or changed frequently. Examples of streaming data include: sensor data, social media data, etc.\n",
    "\n"
   ]
  }
 ],
 "metadata": {
  "language_info": {
   "name": "python"
  }
 },
 "nbformat": 4,
 "nbformat_minor": 2
}
