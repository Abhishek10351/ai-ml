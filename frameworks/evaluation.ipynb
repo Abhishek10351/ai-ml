{
 "cells": [
  {
   "cell_type": "markdown",
   "metadata": {},
   "source": [
    "# Evaluation "
   ]
  },
  {
   "cell_type": "markdown",
   "metadata": {},
   "source": [
    "## Introduction\n",
    "\n",
    "Evaluation is a key part of the machine learning pipeline. It allows us to compare different models and select the best one. We chose the best model according to the outpt we require\n",
    "\n",
    "## Evaluation Metrics\n",
    "\n",
    "There are several metrics that can be used to evaluate the performance of a model. The choice of metric depends on the task at hand. \n",
    "\n"
   ]
  }
 ],
 "metadata": {
  "language_info": {
   "name": "python"
  }
 },
 "nbformat": 4,
 "nbformat_minor": 2
}
