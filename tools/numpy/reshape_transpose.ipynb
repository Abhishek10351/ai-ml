{
 "cells": [
  {
   "cell_type": "code",
   "execution_count": 3,
   "metadata": {},
   "outputs": [],
   "source": [
    "import numpy as np"
   ]
  },
  {
   "cell_type": "code",
   "execution_count": 7,
   "metadata": {},
   "outputs": [
    {
     "data": {
      "text/plain": [
       "array([[[0.23549099, 0.93419254, 0.55260276],\n",
       "        [0.99283022, 0.75123645, 0.16528468],\n",
       "        [0.93352249, 0.29286947, 0.28297108]],\n",
       "\n",
       "       [[0.48311547, 0.0503877 , 0.81682807],\n",
       "        [0.12643672, 0.5044934 , 0.48739628],\n",
       "        [0.37734387, 0.56286468, 0.61000441]]])"
      ]
     },
     "execution_count": 7,
     "metadata": {},
     "output_type": "execute_result"
    }
   ],
   "source": [
    "a1 = numpy.array([1, 2, 3])\n",
    "\n",
    "a2 = numpy.random.rand(2, 3, 3)\n",
    "a2"
   ]
  },
  {
   "cell_type": "code",
   "execution_count": 9,
   "metadata": {},
   "outputs": [
    {
     "data": {
      "text/plain": [
       "(2, 3, 3)"
      ]
     },
     "execution_count": 9,
     "metadata": {},
     "output_type": "execute_result"
    }
   ],
   "source": [
    "a3 = numpy.random.rand(2, 3, 3)\n",
    "a3.shape"
   ]
  },
  {
   "cell_type": "code",
   "execution_count": 10,
   "metadata": {},
   "outputs": [
    {
     "data": {
      "text/plain": [
       "array([[[0.20748174, 0.4109352 , 0.29889897],\n",
       "        [0.56599504, 0.56086713, 0.0702386 ],\n",
       "        [0.25659571, 0.19546079, 0.2313092 ]],\n",
       "\n",
       "       [[0.44322608, 0.00966604, 0.28201812],\n",
       "        [0.01908832, 0.48088643, 0.34343133],\n",
       "        [0.11723732, 0.1166933 , 0.08246152]]])"
      ]
     },
     "execution_count": 10,
     "metadata": {},
     "output_type": "execute_result"
    }
   ],
   "source": [
    "a2 * a3"
   ]
  },
  {
   "cell_type": "code",
   "execution_count": 11,
   "metadata": {},
   "outputs": [
    {
     "data": {
      "text/plain": [
       "array([[0.23549099, 0.93419254, 0.55260276, 0.99283022, 0.75123645,\n",
       "        0.16528468],\n",
       "       [0.93352249, 0.29286947, 0.28297108, 0.48311547, 0.0503877 ,\n",
       "        0.81682807],\n",
       "       [0.12643672, 0.5044934 , 0.48739628, 0.37734387, 0.56286468,\n",
       "        0.61000441]])"
      ]
     },
     "execution_count": 11,
     "metadata": {},
     "output_type": "execute_result"
    }
   ],
   "source": [
    "a2.reshape(3, 6)"
   ]
  },
  {
   "cell_type": "code",
   "execution_count": 12,
   "metadata": {},
   "outputs": [
    {
     "data": {
      "text/plain": [
       "array([[[0.8810602 , 0.91743302],\n",
       "        [0.57008241, 0.15097134],\n",
       "        [0.27486826, 0.31069095]],\n",
       "\n",
       "       [[0.43988276, 0.19183334],\n",
       "        [0.74659201, 0.95320658],\n",
       "        [0.66739901, 0.20732034]],\n",
       "\n",
       "       [[0.54089301, 0.34526007],\n",
       "        [0.4249553 , 0.70462443],\n",
       "        [0.81743053, 0.13518185]]])"
      ]
     },
     "execution_count": 12,
     "metadata": {},
     "output_type": "execute_result"
    }
   ],
   "source": [
    "# Transpose\n",
    "a3.T"
   ]
  },
  {
   "cell_type": "code",
   "execution_count": null,
   "metadata": {},
   "outputs": [],
   "source": []
  }
 ],
 "metadata": {
  "kernelspec": {
   "display_name": "Python 3",
   "language": "python",
   "name": "python3"
  },
  "language_info": {
   "codemirror_mode": {
    "name": "ipython",
    "version": 3
   },
   "file_extension": ".py",
   "mimetype": "text/x-python",
   "name": "python",
   "nbconvert_exporter": "python",
   "pygments_lexer": "ipython3",
   "version": "3.12.4"
  }
 },
 "nbformat": 4,
 "nbformat_minor": 2
}
