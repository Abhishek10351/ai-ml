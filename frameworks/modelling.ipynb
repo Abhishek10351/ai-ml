{
 "cells": [
  {
   "cell_type": "markdown",
   "metadata": {},
   "source": [
    "# Modelling "
   ]
  },
  {
   "cell_type": "markdown",
   "metadata": {},
   "source": [
    "## Introduction\n",
    "\n",
    "Modelling is the process of creating a mathematical representation of a real-world process. It is a core part of data science and machine learning."
   ]
  },
  {
   "cell_type": "markdown",
   "metadata": {
    "slideshow": {
     "slide_type": "notes"
    }
   },
   "source": [
    "\n",
    "\n",
    "## Splitting the Data\n",
    "\n",
    "When building a model, it is important to split the data into a training set and a test set. The training set is used to train the model, while the test set is used to evaluate the model's performance.\n",
    "\n",
    "Training - (70-80%)\n",
    "Validation - (10-15%)\n",
    "Testing - (10-15%)"
   ]
  },
  {
   "cell_type": "markdown",
   "metadata": {},
   "source": [
    "## Choosing a Model\n",
    "\n",
    "There are many different types of models that can be used to represent a real-world process.\n",
    "Different models have different strengths and weaknesses, and the best model for a given problem will depend on the specific characteristics of the data and the goals of the analysis. "
   ]
  },
  {
   "cell_type": "markdown",
   "metadata": {},
   "source": [
    "## Training the Model\n",
    "\n",
    "Once a model has been chosen, it must be trained on the training set. This involves using the data in the training set to adjust the model's parameters so that it accurately represents the underlying process.\n",
    "We use features (**data**) to predict the target variable (**label**)."
   ]
  },
  {
   "cell_type": "markdown",
   "metadata": {},
   "source": [
    "## Tuning the Model\n",
    "\n",
    "After training the model, it is important to evaluate its performance on the test set. If the model's performance is not satisfactory, it may be necessary to tune the model's hyperparameters or try a different model altogether."
   ]
  },
  {
   "cell_type": "markdown",
   "metadata": {},
   "source": [
    "## Comparing Models\n",
    "\n",
    "Once multiple models have been trained and evaluated, it is important to compare their performance to determine which model is the best fit for the data. \n",
    "\n",
    "We don't want underfitting or overfitting. We want the model to generalize well to unseen data.\n"
   ]
  },
  {
   "cell_type": "markdown",
   "metadata": {},
   "source": [
    "## Experimentation\n",
    "\n",
    "The process of building a model is often an iterative one, involving multiple rounds of training, evaluation, and tuning. It is important to keep track of the results of each experiment and use this information to guide future iterations of the model-building process."
   ]
  }
 ],
 "metadata": {
  "language_info": {
   "name": "python"
  }
 },
 "nbformat": 4,
 "nbformat_minor": 2
}
