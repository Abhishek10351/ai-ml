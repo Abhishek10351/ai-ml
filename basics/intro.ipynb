{
 "cells": [
  {
   "cell_type": "markdown",
   "metadata": {},
   "source": [
    "# What is Machine Learning and Artificial Intelligence?\n",
    "\n",
    "Machine learning is a subset of artificial intelligence (AI) that provides systems the ability to automatically learn and improve from experience without being explicitly programmed. Machine learning focuses on the development of computer programs that can access data and use it to learn for themselves.\n",
    "\n",
    "Some different sectors are:\n",
    "* AI\n",
    "* Machine Learning\n",
    "* Deep Learning\n",
    "* Data Science"
   ]
  },
  {
   "cell_type": "markdown",
   "metadata": {},
   "source": [
    "**----------------------------------------------------------------**"
   ]
  },
  {
   "cell_type": "markdown",
   "metadata": {},
   "source": [
    "\n",
    "# What is a Machine Learning Model?\n",
    "\n",
    "A machine learning model is a file that has been trained to recognize certain types of patterns. You train a model over a set of data, providing it an algorithm that it can use to reason over and learn from those data.\n",
    "\n",
    "These models are first trained according to the data and then used to predict the output of new data.\n",
    "It is just a mathematical model that uses different algorithms based on the type of problem."
   ]
  },
  {
   "cell_type": "markdown",
   "metadata": {},
   "source": [
    "**----------------------------------------------------------------**"
   ]
  },
  {
   "cell_type": "markdown",
   "metadata": {},
   "source": [
    "# ML Categories\n",
    "\n",
    "## Some of the most common categories of machine learning are:\n",
    "### 1. Supervised Learning\n",
    "\n",
    "In supervised learning, the algorithm learns from labeled data. You provide the algorithm with a dataset that includes both the input and the correct output. The algorithm learns on this dataset and then is tested on a new dataset. The algorithm makes predictions based on the examples it learned from.\n",
    "Ex - Linear Regression, Logistic Regression, Random Forest, etc.\n",
    "\n",
    "### 2. Unsupervised Learning\n",
    "\n",
    "In unsupervised learning, the algorithm learns from data that has not been labeled, classified, or categorized. The algorithm tries to learn the patterns from the data and then group the data based on the patterns.\n",
    "Ex - K-means, Hierarchical clustering, etc.\n",
    "\n",
    "### 3. Reinforcement Learning\n",
    "\n",
    "Reinforcement learning is a type of machine learning algorithm that allows the agent to decide the best next action based on its current state, by learning behaviors that will maximize the reward.\n"
   ]
  },
  {
   "cell_type": "markdown",
   "metadata": {},
   "source": []
  }
 ],
 "metadata": {
  "kernelspec": {
   "display_name": "Python 3",
   "language": "python",
   "name": "python3"
  },
  "language_info": {
   "codemirror_mode": {
    "name": "ipython",
    "version": 3
   },
   "file_extension": ".py",
   "mimetype": "text/x-python",
   "name": "python",
   "nbconvert_exporter": "python",
   "pygments_lexer": "ipython3",
   "version": "3.12.8"
  }
 },
 "nbformat": 4,
 "nbformat_minor": 4
}
